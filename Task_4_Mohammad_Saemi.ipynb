{
 "cells": [
  {
   "cell_type": "code",
   "execution_count": 106,
   "id": "d6ea0b21",
   "metadata": {},
   "outputs": [],
   "source": [
    "import pandas as pd\n",
    "import numpy as np\n",
    "import seaborn as sns\n",
    "import matplotlib.pyplot as plt\n",
    "from scipy.stats import zscore\n",
    "from sklearn.preprocessing import StandardScaler, MinMaxScaler, PolynomialFeatures\n",
    "from sklearn.model_selection import train_test_split\n",
    "from sklearn.linear_model import LinearRegression\n",
    "from sklearn.preprocessing import PolynomialFeatures\n",
    "from sklearn.model_selection import train_test_split\n",
    "from sklearn.metrics import classification_report\n",
    "from sklearn.feature_selection import VarianceThreshold\n",
    "from sklearn.pipeline import Pipeline\n",
    "from sklearn.linear_model import LogisticRegression\n",
    "from sklearn.svm import SVC\n"
   ]
  },
  {
   "cell_type": "code",
   "execution_count": 23,
   "id": "e5193fea",
   "metadata": {},
   "outputs": [],
   "source": [
    "abide = pd.read_csv(r'E:\\ML in neuro\\ses3\\abide2.tsv', sep='\\t')\n",
    "abide.insert(6, 'temp', abide['age_resid'])\n",
    "abide.drop('age_resid', axis=1, inplace=True)\n",
    "abide.rename(columns={'temp': 'age_resid'}, inplace=True)\n",
    "features = abide.filter(like='fs')\n",
    "phenotypes = abide.iloc[:, :6]"
   ]
  },
  {
   "cell_type": "code",
   "execution_count": 24,
   "id": "10350876",
   "metadata": {},
   "outputs": [
    {
     "data": {
      "text/html": [
       "<div>\n",
       "<style scoped>\n",
       "    .dataframe tbody tr th:only-of-type {\n",
       "        vertical-align: middle;\n",
       "    }\n",
       "\n",
       "    .dataframe tbody tr th {\n",
       "        vertical-align: top;\n",
       "    }\n",
       "\n",
       "    .dataframe thead th {\n",
       "        text-align: right;\n",
       "    }\n",
       "</style>\n",
       "<table border=\"1\" class=\"dataframe\">\n",
       "  <thead>\n",
       "    <tr style=\"text-align: right;\">\n",
       "      <th></th>\n",
       "      <th>fsArea_L_V1_ROI</th>\n",
       "      <th>fsArea_L_MST_ROI</th>\n",
       "      <th>fsArea_L_V6_ROI</th>\n",
       "      <th>fsArea_L_V2_ROI</th>\n",
       "      <th>fsArea_L_V3_ROI</th>\n",
       "      <th>fsArea_L_V4_ROI</th>\n",
       "      <th>fsArea_L_V8_ROI</th>\n",
       "      <th>fsArea_L_4_ROI</th>\n",
       "      <th>fsArea_L_3b_ROI</th>\n",
       "      <th>fsArea_L_FEF_ROI</th>\n",
       "      <th>...</th>\n",
       "      <th>fsCT_R_p47r_ROI</th>\n",
       "      <th>fsCT_R_TGv_ROI</th>\n",
       "      <th>fsCT_R_MBelt_ROI</th>\n",
       "      <th>fsCT_R_LBelt_ROI</th>\n",
       "      <th>fsCT_R_A4_ROI</th>\n",
       "      <th>fsCT_R_STSva_ROI</th>\n",
       "      <th>fsCT_R_TE1m_ROI</th>\n",
       "      <th>fsCT_R_PI_ROI</th>\n",
       "      <th>fsCT_R_a32pr_ROI</th>\n",
       "      <th>fsCT_R_p24_ROI</th>\n",
       "    </tr>\n",
       "  </thead>\n",
       "  <tbody>\n",
       "    <tr>\n",
       "      <th>0</th>\n",
       "      <td>2750.0</td>\n",
       "      <td>306.0</td>\n",
       "      <td>354.0</td>\n",
       "      <td>2123.0</td>\n",
       "      <td>1451.0</td>\n",
       "      <td>1128.0</td>\n",
       "      <td>269.0</td>\n",
       "      <td>1751.0</td>\n",
       "      <td>1338.0</td>\n",
       "      <td>632.0</td>\n",
       "      <td>...</td>\n",
       "      <td>3.362</td>\n",
       "      <td>2.827</td>\n",
       "      <td>2.777</td>\n",
       "      <td>2.526</td>\n",
       "      <td>3.202</td>\n",
       "      <td>3.024</td>\n",
       "      <td>3.354</td>\n",
       "      <td>2.629</td>\n",
       "      <td>2.699</td>\n",
       "      <td>3.179</td>\n",
       "    </tr>\n",
       "    <tr>\n",
       "      <th>1</th>\n",
       "      <td>2836.0</td>\n",
       "      <td>186.0</td>\n",
       "      <td>354.0</td>\n",
       "      <td>2261.0</td>\n",
       "      <td>1584.0</td>\n",
       "      <td>1241.0</td>\n",
       "      <td>259.0</td>\n",
       "      <td>1521.0</td>\n",
       "      <td>1105.0</td>\n",
       "      <td>302.0</td>\n",
       "      <td>...</td>\n",
       "      <td>2.809</td>\n",
       "      <td>3.539</td>\n",
       "      <td>2.944</td>\n",
       "      <td>2.769</td>\n",
       "      <td>3.530</td>\n",
       "      <td>3.079</td>\n",
       "      <td>3.282</td>\n",
       "      <td>2.670</td>\n",
       "      <td>2.746</td>\n",
       "      <td>3.324</td>\n",
       "    </tr>\n",
       "    <tr>\n",
       "      <th>2</th>\n",
       "      <td>3394.0</td>\n",
       "      <td>223.0</td>\n",
       "      <td>373.0</td>\n",
       "      <td>2827.0</td>\n",
       "      <td>1816.0</td>\n",
       "      <td>1299.0</td>\n",
       "      <td>221.0</td>\n",
       "      <td>1657.0</td>\n",
       "      <td>1374.0</td>\n",
       "      <td>456.0</td>\n",
       "      <td>...</td>\n",
       "      <td>2.435</td>\n",
       "      <td>3.321</td>\n",
       "      <td>2.799</td>\n",
       "      <td>2.388</td>\n",
       "      <td>3.148</td>\n",
       "      <td>3.125</td>\n",
       "      <td>3.116</td>\n",
       "      <td>2.891</td>\n",
       "      <td>2.940</td>\n",
       "      <td>3.232</td>\n",
       "    </tr>\n",
       "    <tr>\n",
       "      <th>3</th>\n",
       "      <td>3382.0</td>\n",
       "      <td>266.0</td>\n",
       "      <td>422.0</td>\n",
       "      <td>2686.0</td>\n",
       "      <td>1893.0</td>\n",
       "      <td>1359.0</td>\n",
       "      <td>234.0</td>\n",
       "      <td>1889.0</td>\n",
       "      <td>1545.0</td>\n",
       "      <td>407.0</td>\n",
       "      <td>...</td>\n",
       "      <td>3.349</td>\n",
       "      <td>3.344</td>\n",
       "      <td>2.694</td>\n",
       "      <td>3.030</td>\n",
       "      <td>3.258</td>\n",
       "      <td>2.774</td>\n",
       "      <td>3.383</td>\n",
       "      <td>2.696</td>\n",
       "      <td>3.014</td>\n",
       "      <td>3.264</td>\n",
       "    </tr>\n",
       "    <tr>\n",
       "      <th>4</th>\n",
       "      <td>3080.0</td>\n",
       "      <td>161.0</td>\n",
       "      <td>346.0</td>\n",
       "      <td>2105.0</td>\n",
       "      <td>1307.0</td>\n",
       "      <td>1004.0</td>\n",
       "      <td>254.0</td>\n",
       "      <td>1334.0</td>\n",
       "      <td>985.0</td>\n",
       "      <td>315.0</td>\n",
       "      <td>...</td>\n",
       "      <td>2.428</td>\n",
       "      <td>2.940</td>\n",
       "      <td>2.809</td>\n",
       "      <td>2.607</td>\n",
       "      <td>3.430</td>\n",
       "      <td>2.752</td>\n",
       "      <td>2.645</td>\n",
       "      <td>3.111</td>\n",
       "      <td>3.219</td>\n",
       "      <td>4.128</td>\n",
       "    </tr>\n",
       "    <tr>\n",
       "      <th>...</th>\n",
       "      <td>...</td>\n",
       "      <td>...</td>\n",
       "      <td>...</td>\n",
       "      <td>...</td>\n",
       "      <td>...</td>\n",
       "      <td>...</td>\n",
       "      <td>...</td>\n",
       "      <td>...</td>\n",
       "      <td>...</td>\n",
       "      <td>...</td>\n",
       "      <td>...</td>\n",
       "      <td>...</td>\n",
       "      <td>...</td>\n",
       "      <td>...</td>\n",
       "      <td>...</td>\n",
       "      <td>...</td>\n",
       "      <td>...</td>\n",
       "      <td>...</td>\n",
       "      <td>...</td>\n",
       "      <td>...</td>\n",
       "      <td>...</td>\n",
       "    </tr>\n",
       "    <tr>\n",
       "      <th>999</th>\n",
       "      <td>3321.0</td>\n",
       "      <td>290.0</td>\n",
       "      <td>381.0</td>\n",
       "      <td>2802.0</td>\n",
       "      <td>1827.0</td>\n",
       "      <td>1314.0</td>\n",
       "      <td>184.0</td>\n",
       "      <td>1992.0</td>\n",
       "      <td>1668.0</td>\n",
       "      <td>579.0</td>\n",
       "      <td>...</td>\n",
       "      <td>2.553</td>\n",
       "      <td>3.502</td>\n",
       "      <td>2.955</td>\n",
       "      <td>2.873</td>\n",
       "      <td>3.074</td>\n",
       "      <td>2.849</td>\n",
       "      <td>2.941</td>\n",
       "      <td>2.863</td>\n",
       "      <td>2.854</td>\n",
       "      <td>3.265</td>\n",
       "    </tr>\n",
       "    <tr>\n",
       "      <th>1000</th>\n",
       "      <td>2860.0</td>\n",
       "      <td>162.0</td>\n",
       "      <td>456.0</td>\n",
       "      <td>2460.0</td>\n",
       "      <td>1718.0</td>\n",
       "      <td>1225.0</td>\n",
       "      <td>240.0</td>\n",
       "      <td>2459.0</td>\n",
       "      <td>1721.0</td>\n",
       "      <td>574.0</td>\n",
       "      <td>...</td>\n",
       "      <td>2.437</td>\n",
       "      <td>3.658</td>\n",
       "      <td>2.537</td>\n",
       "      <td>2.482</td>\n",
       "      <td>3.425</td>\n",
       "      <td>2.819</td>\n",
       "      <td>3.304</td>\n",
       "      <td>2.688</td>\n",
       "      <td>3.200</td>\n",
       "      <td>3.086</td>\n",
       "    </tr>\n",
       "    <tr>\n",
       "      <th>1001</th>\n",
       "      <td>3377.0</td>\n",
       "      <td>177.0</td>\n",
       "      <td>497.0</td>\n",
       "      <td>2810.0</td>\n",
       "      <td>1866.0</td>\n",
       "      <td>1343.0</td>\n",
       "      <td>254.0</td>\n",
       "      <td>1758.0</td>\n",
       "      <td>1318.0</td>\n",
       "      <td>436.0</td>\n",
       "      <td>...</td>\n",
       "      <td>2.770</td>\n",
       "      <td>3.422</td>\n",
       "      <td>2.925</td>\n",
       "      <td>3.028</td>\n",
       "      <td>3.285</td>\n",
       "      <td>2.717</td>\n",
       "      <td>3.073</td>\n",
       "      <td>2.899</td>\n",
       "      <td>3.029</td>\n",
       "      <td>3.292</td>\n",
       "    </tr>\n",
       "    <tr>\n",
       "      <th>1002</th>\n",
       "      <td>3322.0</td>\n",
       "      <td>297.0</td>\n",
       "      <td>426.0</td>\n",
       "      <td>2640.0</td>\n",
       "      <td>1726.0</td>\n",
       "      <td>1242.0</td>\n",
       "      <td>318.0</td>\n",
       "      <td>1719.0</td>\n",
       "      <td>1310.0</td>\n",
       "      <td>444.0</td>\n",
       "      <td>...</td>\n",
       "      <td>2.579</td>\n",
       "      <td>3.328</td>\n",
       "      <td>2.998</td>\n",
       "      <td>3.062</td>\n",
       "      <td>3.601</td>\n",
       "      <td>3.049</td>\n",
       "      <td>2.901</td>\n",
       "      <td>2.704</td>\n",
       "      <td>3.076</td>\n",
       "      <td>3.114</td>\n",
       "    </tr>\n",
       "    <tr>\n",
       "      <th>1003</th>\n",
       "      <td>2649.0</td>\n",
       "      <td>140.0</td>\n",
       "      <td>307.0</td>\n",
       "      <td>2359.0</td>\n",
       "      <td>1446.0</td>\n",
       "      <td>1003.0</td>\n",
       "      <td>198.0</td>\n",
       "      <td>1807.0</td>\n",
       "      <td>1325.0</td>\n",
       "      <td>395.0</td>\n",
       "      <td>...</td>\n",
       "      <td>3.287</td>\n",
       "      <td>3.170</td>\n",
       "      <td>2.494</td>\n",
       "      <td>2.725</td>\n",
       "      <td>3.477</td>\n",
       "      <td>2.850</td>\n",
       "      <td>3.695</td>\n",
       "      <td>2.637</td>\n",
       "      <td>3.263</td>\n",
       "      <td>2.981</td>\n",
       "    </tr>\n",
       "  </tbody>\n",
       "</table>\n",
       "<p>1004 rows × 1440 columns</p>\n",
       "</div>"
      ],
      "text/plain": [
       "      fsArea_L_V1_ROI  fsArea_L_MST_ROI  fsArea_L_V6_ROI  fsArea_L_V2_ROI  \\\n",
       "0              2750.0             306.0            354.0           2123.0   \n",
       "1              2836.0             186.0            354.0           2261.0   \n",
       "2              3394.0             223.0            373.0           2827.0   \n",
       "3              3382.0             266.0            422.0           2686.0   \n",
       "4              3080.0             161.0            346.0           2105.0   \n",
       "...               ...               ...              ...              ...   \n",
       "999            3321.0             290.0            381.0           2802.0   \n",
       "1000           2860.0             162.0            456.0           2460.0   \n",
       "1001           3377.0             177.0            497.0           2810.0   \n",
       "1002           3322.0             297.0            426.0           2640.0   \n",
       "1003           2649.0             140.0            307.0           2359.0   \n",
       "\n",
       "      fsArea_L_V3_ROI  fsArea_L_V4_ROI  fsArea_L_V8_ROI  fsArea_L_4_ROI  \\\n",
       "0              1451.0           1128.0            269.0          1751.0   \n",
       "1              1584.0           1241.0            259.0          1521.0   \n",
       "2              1816.0           1299.0            221.0          1657.0   \n",
       "3              1893.0           1359.0            234.0          1889.0   \n",
       "4              1307.0           1004.0            254.0          1334.0   \n",
       "...               ...              ...              ...             ...   \n",
       "999            1827.0           1314.0            184.0          1992.0   \n",
       "1000           1718.0           1225.0            240.0          2459.0   \n",
       "1001           1866.0           1343.0            254.0          1758.0   \n",
       "1002           1726.0           1242.0            318.0          1719.0   \n",
       "1003           1446.0           1003.0            198.0          1807.0   \n",
       "\n",
       "      fsArea_L_3b_ROI  fsArea_L_FEF_ROI  ...  fsCT_R_p47r_ROI  fsCT_R_TGv_ROI  \\\n",
       "0              1338.0             632.0  ...            3.362           2.827   \n",
       "1              1105.0             302.0  ...            2.809           3.539   \n",
       "2              1374.0             456.0  ...            2.435           3.321   \n",
       "3              1545.0             407.0  ...            3.349           3.344   \n",
       "4               985.0             315.0  ...            2.428           2.940   \n",
       "...               ...               ...  ...              ...             ...   \n",
       "999            1668.0             579.0  ...            2.553           3.502   \n",
       "1000           1721.0             574.0  ...            2.437           3.658   \n",
       "1001           1318.0             436.0  ...            2.770           3.422   \n",
       "1002           1310.0             444.0  ...            2.579           3.328   \n",
       "1003           1325.0             395.0  ...            3.287           3.170   \n",
       "\n",
       "      fsCT_R_MBelt_ROI  fsCT_R_LBelt_ROI  fsCT_R_A4_ROI  fsCT_R_STSva_ROI  \\\n",
       "0                2.777             2.526          3.202             3.024   \n",
       "1                2.944             2.769          3.530             3.079   \n",
       "2                2.799             2.388          3.148             3.125   \n",
       "3                2.694             3.030          3.258             2.774   \n",
       "4                2.809             2.607          3.430             2.752   \n",
       "...                ...               ...            ...               ...   \n",
       "999              2.955             2.873          3.074             2.849   \n",
       "1000             2.537             2.482          3.425             2.819   \n",
       "1001             2.925             3.028          3.285             2.717   \n",
       "1002             2.998             3.062          3.601             3.049   \n",
       "1003             2.494             2.725          3.477             2.850   \n",
       "\n",
       "      fsCT_R_TE1m_ROI  fsCT_R_PI_ROI  fsCT_R_a32pr_ROI  fsCT_R_p24_ROI  \n",
       "0               3.354          2.629             2.699           3.179  \n",
       "1               3.282          2.670             2.746           3.324  \n",
       "2               3.116          2.891             2.940           3.232  \n",
       "3               3.383          2.696             3.014           3.264  \n",
       "4               2.645          3.111             3.219           4.128  \n",
       "...               ...            ...               ...             ...  \n",
       "999             2.941          2.863             2.854           3.265  \n",
       "1000            3.304          2.688             3.200           3.086  \n",
       "1001            3.073          2.899             3.029           3.292  \n",
       "1002            2.901          2.704             3.076           3.114  \n",
       "1003            3.695          2.637             3.263           2.981  \n",
       "\n",
       "[1004 rows x 1440 columns]"
      ]
     },
     "execution_count": 24,
     "metadata": {},
     "output_type": "execute_result"
    }
   ],
   "source": [
    "features\n"
   ]
  },
  {
   "cell_type": "code",
   "execution_count": 25,
   "id": "a5c2e794",
   "metadata": {},
   "outputs": [],
   "source": [
    "y = phenotypes['group']\n"
   ]
  },
  {
   "cell_type": "code",
   "execution_count": 26,
   "id": "b399ea56",
   "metadata": {},
   "outputs": [
    {
     "data": {
      "text/plain": [
       "0       1.0\n",
       "1       1.0\n",
       "2       0.0\n",
       "3       1.0\n",
       "4       0.0\n",
       "       ... \n",
       "999     0.0\n",
       "1000    0.0\n",
       "1001    0.0\n",
       "1002    0.0\n",
       "1003    1.0\n",
       "Name: group, Length: 1004, dtype: float64"
      ]
     },
     "execution_count": 26,
     "metadata": {},
     "output_type": "execute_result"
    }
   ],
   "source": [
    "y = y.replace(2, 0)\n",
    "y"
   ]
  },
  {
   "cell_type": "code",
   "execution_count": 27,
   "id": "db88bbee",
   "metadata": {},
   "outputs": [],
   "source": [
    "scaler = StandardScaler()\n",
    "\n",
    "X = scaler.fit_transform(features)"
   ]
  },
  {
   "cell_type": "code",
   "execution_count": 28,
   "id": "6d0533ae",
   "metadata": {},
   "outputs": [
    {
     "data": {
      "text/html": [
       "<div>\n",
       "<style scoped>\n",
       "    .dataframe tbody tr th:only-of-type {\n",
       "        vertical-align: middle;\n",
       "    }\n",
       "\n",
       "    .dataframe tbody tr th {\n",
       "        vertical-align: top;\n",
       "    }\n",
       "\n",
       "    .dataframe thead th {\n",
       "        text-align: right;\n",
       "    }\n",
       "</style>\n",
       "<table border=\"1\" class=\"dataframe\">\n",
       "  <thead>\n",
       "    <tr style=\"text-align: right;\">\n",
       "      <th></th>\n",
       "      <th>fsArea_L_V1_ROI</th>\n",
       "      <th>fsArea_L_MST_ROI</th>\n",
       "      <th>fsArea_L_V6_ROI</th>\n",
       "      <th>fsArea_L_V2_ROI</th>\n",
       "      <th>fsArea_L_V3_ROI</th>\n",
       "      <th>fsArea_L_V4_ROI</th>\n",
       "      <th>fsArea_L_V8_ROI</th>\n",
       "      <th>fsArea_L_4_ROI</th>\n",
       "      <th>fsArea_L_3b_ROI</th>\n",
       "      <th>fsArea_L_FEF_ROI</th>\n",
       "      <th>...</th>\n",
       "      <th>fsCT_R_p47r_ROI</th>\n",
       "      <th>fsCT_R_TGv_ROI</th>\n",
       "      <th>fsCT_R_MBelt_ROI</th>\n",
       "      <th>fsCT_R_LBelt_ROI</th>\n",
       "      <th>fsCT_R_A4_ROI</th>\n",
       "      <th>fsCT_R_STSva_ROI</th>\n",
       "      <th>fsCT_R_TE1m_ROI</th>\n",
       "      <th>fsCT_R_PI_ROI</th>\n",
       "      <th>fsCT_R_a32pr_ROI</th>\n",
       "      <th>fsCT_R_p24_ROI</th>\n",
       "    </tr>\n",
       "  </thead>\n",
       "  <tbody>\n",
       "    <tr>\n",
       "      <th>0</th>\n",
       "      <td>-0.829942</td>\n",
       "      <td>1.164264</td>\n",
       "      <td>-0.617506</td>\n",
       "      <td>-1.429303</td>\n",
       "      <td>-1.262839</td>\n",
       "      <td>-0.828693</td>\n",
       "      <td>0.112244</td>\n",
       "      <td>-0.246071</td>\n",
       "      <td>-0.313098</td>\n",
       "      <td>1.956778</td>\n",
       "      <td>...</td>\n",
       "      <td>2.364904</td>\n",
       "      <td>-0.913419</td>\n",
       "      <td>0.315561</td>\n",
       "      <td>-0.580204</td>\n",
       "      <td>0.089160</td>\n",
       "      <td>0.650036</td>\n",
       "      <td>0.806525</td>\n",
       "      <td>-0.195324</td>\n",
       "      <td>-0.480189</td>\n",
       "      <td>-0.055639</td>\n",
       "    </tr>\n",
       "    <tr>\n",
       "      <th>1</th>\n",
       "      <td>-0.656456</td>\n",
       "      <td>-0.587979</td>\n",
       "      <td>-0.617506</td>\n",
       "      <td>-1.027515</td>\n",
       "      <td>-0.696653</td>\n",
       "      <td>-0.278204</td>\n",
       "      <td>-0.058090</td>\n",
       "      <td>-1.177284</td>\n",
       "      <td>-1.504883</td>\n",
       "      <td>-1.282974</td>\n",
       "      <td>...</td>\n",
       "      <td>0.768075</td>\n",
       "      <td>0.599082</td>\n",
       "      <td>0.842638</td>\n",
       "      <td>0.139142</td>\n",
       "      <td>1.103577</td>\n",
       "      <td>0.816385</td>\n",
       "      <td>0.614441</td>\n",
       "      <td>-0.068156</td>\n",
       "      <td>-0.346434</td>\n",
       "      <td>0.312323</td>\n",
       "    </tr>\n",
       "    <tr>\n",
       "      <th>2</th>\n",
       "      <td>0.469190</td>\n",
       "      <td>-0.047704</td>\n",
       "      <td>-0.334418</td>\n",
       "      <td>0.620402</td>\n",
       "      <td>0.290980</td>\n",
       "      <td>0.004348</td>\n",
       "      <td>-0.705356</td>\n",
       "      <td>-0.626653</td>\n",
       "      <td>-0.128959</td>\n",
       "      <td>0.228910</td>\n",
       "      <td>...</td>\n",
       "      <td>-0.311878</td>\n",
       "      <td>0.135985</td>\n",
       "      <td>0.384997</td>\n",
       "      <td>-0.988722</td>\n",
       "      <td>-0.077848</td>\n",
       "      <td>0.955513</td>\n",
       "      <td>0.171579</td>\n",
       "      <td>0.617309</td>\n",
       "      <td>0.205661</td>\n",
       "      <td>0.078857</td>\n",
       "    </tr>\n",
       "    <tr>\n",
       "      <th>3</th>\n",
       "      <td>0.444982</td>\n",
       "      <td>0.580183</td>\n",
       "      <td>0.395648</td>\n",
       "      <td>0.209878</td>\n",
       "      <td>0.618772</td>\n",
       "      <td>0.296643</td>\n",
       "      <td>-0.483923</td>\n",
       "      <td>0.312657</td>\n",
       "      <td>0.745699</td>\n",
       "      <td>-0.252144</td>\n",
       "      <td>...</td>\n",
       "      <td>2.327366</td>\n",
       "      <td>0.184844</td>\n",
       "      <td>0.053601</td>\n",
       "      <td>0.911773</td>\n",
       "      <td>0.262353</td>\n",
       "      <td>-0.106096</td>\n",
       "      <td>0.883893</td>\n",
       "      <td>0.012487</td>\n",
       "      <td>0.416254</td>\n",
       "      <td>0.160063</td>\n",
       "    </tr>\n",
       "    <tr>\n",
       "      <th>4</th>\n",
       "      <td>-0.164238</td>\n",
       "      <td>-0.953029</td>\n",
       "      <td>-0.736700</td>\n",
       "      <td>-1.481711</td>\n",
       "      <td>-1.875853</td>\n",
       "      <td>-1.432770</td>\n",
       "      <td>-0.143256</td>\n",
       "      <td>-1.934400</td>\n",
       "      <td>-2.118678</td>\n",
       "      <td>-1.155347</td>\n",
       "      <td>...</td>\n",
       "      <td>-0.332091</td>\n",
       "      <td>-0.673373</td>\n",
       "      <td>0.416558</td>\n",
       "      <td>-0.340422</td>\n",
       "      <td>0.794304</td>\n",
       "      <td>-0.172636</td>\n",
       "      <td>-1.084975</td>\n",
       "      <td>1.299673</td>\n",
       "      <td>0.999654</td>\n",
       "      <td>2.352611</td>\n",
       "    </tr>\n",
       "    <tr>\n",
       "      <th>...</th>\n",
       "      <td>...</td>\n",
       "      <td>...</td>\n",
       "      <td>...</td>\n",
       "      <td>...</td>\n",
       "      <td>...</td>\n",
       "      <td>...</td>\n",
       "      <td>...</td>\n",
       "      <td>...</td>\n",
       "      <td>...</td>\n",
       "      <td>...</td>\n",
       "      <td>...</td>\n",
       "      <td>...</td>\n",
       "      <td>...</td>\n",
       "      <td>...</td>\n",
       "      <td>...</td>\n",
       "      <td>...</td>\n",
       "      <td>...</td>\n",
       "      <td>...</td>\n",
       "      <td>...</td>\n",
       "      <td>...</td>\n",
       "      <td>...</td>\n",
       "    </tr>\n",
       "    <tr>\n",
       "      <th>999</th>\n",
       "      <td>0.321928</td>\n",
       "      <td>0.930632</td>\n",
       "      <td>-0.215224</td>\n",
       "      <td>0.547614</td>\n",
       "      <td>0.337807</td>\n",
       "      <td>0.077421</td>\n",
       "      <td>-1.335590</td>\n",
       "      <td>0.729679</td>\n",
       "      <td>1.374839</td>\n",
       "      <td>1.436454</td>\n",
       "      <td>...</td>\n",
       "      <td>0.028856</td>\n",
       "      <td>0.520483</td>\n",
       "      <td>0.877356</td>\n",
       "      <td>0.447010</td>\n",
       "      <td>-0.306711</td>\n",
       "      <td>0.120743</td>\n",
       "      <td>-0.295293</td>\n",
       "      <td>0.530463</td>\n",
       "      <td>-0.039082</td>\n",
       "      <td>0.162601</td>\n",
       "    </tr>\n",
       "    <tr>\n",
       "      <th>1000</th>\n",
       "      <td>-0.608041</td>\n",
       "      <td>-0.938427</td>\n",
       "      <td>0.902225</td>\n",
       "      <td>-0.448124</td>\n",
       "      <td>-0.126210</td>\n",
       "      <td>-0.356150</td>\n",
       "      <td>-0.381723</td>\n",
       "      <td>2.620446</td>\n",
       "      <td>1.645932</td>\n",
       "      <td>1.387367</td>\n",
       "      <td>...</td>\n",
       "      <td>-0.306103</td>\n",
       "      <td>0.851874</td>\n",
       "      <td>-0.441914</td>\n",
       "      <td>-0.710456</td>\n",
       "      <td>0.778840</td>\n",
       "      <td>0.030007</td>\n",
       "      <td>0.673133</td>\n",
       "      <td>-0.012326</td>\n",
       "      <td>0.945582</td>\n",
       "      <td>-0.291643</td>\n",
       "    </tr>\n",
       "    <tr>\n",
       "      <th>1001</th>\n",
       "      <td>0.434896</td>\n",
       "      <td>-0.719397</td>\n",
       "      <td>1.513097</td>\n",
       "      <td>0.570906</td>\n",
       "      <td>0.503831</td>\n",
       "      <td>0.218697</td>\n",
       "      <td>-0.143256</td>\n",
       "      <td>-0.217729</td>\n",
       "      <td>-0.415397</td>\n",
       "      <td>0.032562</td>\n",
       "      <td>...</td>\n",
       "      <td>0.655459</td>\n",
       "      <td>0.350539</td>\n",
       "      <td>0.782672</td>\n",
       "      <td>0.905852</td>\n",
       "      <td>0.345857</td>\n",
       "      <td>-0.278495</td>\n",
       "      <td>0.056862</td>\n",
       "      <td>0.642123</td>\n",
       "      <td>0.458942</td>\n",
       "      <td>0.231118</td>\n",
       "    </tr>\n",
       "    <tr>\n",
       "      <th>1002</th>\n",
       "      <td>0.323945</td>\n",
       "      <td>1.032846</td>\n",
       "      <td>0.455245</td>\n",
       "      <td>0.075949</td>\n",
       "      <td>-0.092154</td>\n",
       "      <td>-0.273333</td>\n",
       "      <td>0.946877</td>\n",
       "      <td>-0.375631</td>\n",
       "      <td>-0.456317</td>\n",
       "      <td>0.111101</td>\n",
       "      <td>...</td>\n",
       "      <td>0.103933</td>\n",
       "      <td>0.150855</td>\n",
       "      <td>1.013071</td>\n",
       "      <td>1.006501</td>\n",
       "      <td>1.323162</td>\n",
       "      <td>0.725649</td>\n",
       "      <td>-0.402007</td>\n",
       "      <td>0.037300</td>\n",
       "      <td>0.592697</td>\n",
       "      <td>-0.220588</td>\n",
       "    </tr>\n",
       "    <tr>\n",
       "      <th>1003</th>\n",
       "      <td>-1.033688</td>\n",
       "      <td>-1.259672</td>\n",
       "      <td>-1.317774</td>\n",
       "      <td>-0.742186</td>\n",
       "      <td>-1.284125</td>\n",
       "      <td>-1.437641</td>\n",
       "      <td>-1.097123</td>\n",
       "      <td>-0.019340</td>\n",
       "      <td>-0.379592</td>\n",
       "      <td>-0.369953</td>\n",
       "      <td>...</td>\n",
       "      <td>2.148336</td>\n",
       "      <td>-0.184784</td>\n",
       "      <td>-0.577629</td>\n",
       "      <td>0.008890</td>\n",
       "      <td>0.939662</td>\n",
       "      <td>0.123768</td>\n",
       "      <td>1.716259</td>\n",
       "      <td>-0.170511</td>\n",
       "      <td>1.124871</td>\n",
       "      <td>-0.558098</td>\n",
       "    </tr>\n",
       "  </tbody>\n",
       "</table>\n",
       "<p>1004 rows × 1440 columns</p>\n",
       "</div>"
      ],
      "text/plain": [
       "      fsArea_L_V1_ROI  fsArea_L_MST_ROI  fsArea_L_V6_ROI  fsArea_L_V2_ROI  \\\n",
       "0           -0.829942          1.164264        -0.617506        -1.429303   \n",
       "1           -0.656456         -0.587979        -0.617506        -1.027515   \n",
       "2            0.469190         -0.047704        -0.334418         0.620402   \n",
       "3            0.444982          0.580183         0.395648         0.209878   \n",
       "4           -0.164238         -0.953029        -0.736700        -1.481711   \n",
       "...               ...               ...              ...              ...   \n",
       "999          0.321928          0.930632        -0.215224         0.547614   \n",
       "1000        -0.608041         -0.938427         0.902225        -0.448124   \n",
       "1001         0.434896         -0.719397         1.513097         0.570906   \n",
       "1002         0.323945          1.032846         0.455245         0.075949   \n",
       "1003        -1.033688         -1.259672        -1.317774        -0.742186   \n",
       "\n",
       "      fsArea_L_V3_ROI  fsArea_L_V4_ROI  fsArea_L_V8_ROI  fsArea_L_4_ROI  \\\n",
       "0           -1.262839        -0.828693         0.112244       -0.246071   \n",
       "1           -0.696653        -0.278204        -0.058090       -1.177284   \n",
       "2            0.290980         0.004348        -0.705356       -0.626653   \n",
       "3            0.618772         0.296643        -0.483923        0.312657   \n",
       "4           -1.875853        -1.432770        -0.143256       -1.934400   \n",
       "...               ...              ...              ...             ...   \n",
       "999          0.337807         0.077421        -1.335590        0.729679   \n",
       "1000        -0.126210        -0.356150        -0.381723        2.620446   \n",
       "1001         0.503831         0.218697        -0.143256       -0.217729   \n",
       "1002        -0.092154        -0.273333         0.946877       -0.375631   \n",
       "1003        -1.284125        -1.437641        -1.097123       -0.019340   \n",
       "\n",
       "      fsArea_L_3b_ROI  fsArea_L_FEF_ROI  ...  fsCT_R_p47r_ROI  fsCT_R_TGv_ROI  \\\n",
       "0           -0.313098          1.956778  ...         2.364904       -0.913419   \n",
       "1           -1.504883         -1.282974  ...         0.768075        0.599082   \n",
       "2           -0.128959          0.228910  ...        -0.311878        0.135985   \n",
       "3            0.745699         -0.252144  ...         2.327366        0.184844   \n",
       "4           -2.118678         -1.155347  ...        -0.332091       -0.673373   \n",
       "...               ...               ...  ...              ...             ...   \n",
       "999          1.374839          1.436454  ...         0.028856        0.520483   \n",
       "1000         1.645932          1.387367  ...        -0.306103        0.851874   \n",
       "1001        -0.415397          0.032562  ...         0.655459        0.350539   \n",
       "1002        -0.456317          0.111101  ...         0.103933        0.150855   \n",
       "1003        -0.379592         -0.369953  ...         2.148336       -0.184784   \n",
       "\n",
       "      fsCT_R_MBelt_ROI  fsCT_R_LBelt_ROI  fsCT_R_A4_ROI  fsCT_R_STSva_ROI  \\\n",
       "0             0.315561         -0.580204       0.089160          0.650036   \n",
       "1             0.842638          0.139142       1.103577          0.816385   \n",
       "2             0.384997         -0.988722      -0.077848          0.955513   \n",
       "3             0.053601          0.911773       0.262353         -0.106096   \n",
       "4             0.416558         -0.340422       0.794304         -0.172636   \n",
       "...                ...               ...            ...               ...   \n",
       "999           0.877356          0.447010      -0.306711          0.120743   \n",
       "1000         -0.441914         -0.710456       0.778840          0.030007   \n",
       "1001          0.782672          0.905852       0.345857         -0.278495   \n",
       "1002          1.013071          1.006501       1.323162          0.725649   \n",
       "1003         -0.577629          0.008890       0.939662          0.123768   \n",
       "\n",
       "      fsCT_R_TE1m_ROI  fsCT_R_PI_ROI  fsCT_R_a32pr_ROI  fsCT_R_p24_ROI  \n",
       "0            0.806525      -0.195324         -0.480189       -0.055639  \n",
       "1            0.614441      -0.068156         -0.346434        0.312323  \n",
       "2            0.171579       0.617309          0.205661        0.078857  \n",
       "3            0.883893       0.012487          0.416254        0.160063  \n",
       "4           -1.084975       1.299673          0.999654        2.352611  \n",
       "...               ...            ...               ...             ...  \n",
       "999         -0.295293       0.530463         -0.039082        0.162601  \n",
       "1000         0.673133      -0.012326          0.945582       -0.291643  \n",
       "1001         0.056862       0.642123          0.458942        0.231118  \n",
       "1002        -0.402007       0.037300          0.592697       -0.220588  \n",
       "1003         1.716259      -0.170511          1.124871       -0.558098  \n",
       "\n",
       "[1004 rows x 1440 columns]"
      ]
     },
     "execution_count": 28,
     "metadata": {},
     "output_type": "execute_result"
    }
   ],
   "source": [
    "X= pd.DataFrame(X, columns = features.columns)\n",
    "X"
   ]
  },
  {
   "cell_type": "code",
   "execution_count": 29,
   "id": "8326be6a",
   "metadata": {},
   "outputs": [],
   "source": [
    "X_train, X_test, y_train, y_test = train_test_split(X, y, test_size=0.2, random_state=6)\n"
   ]
  },
  {
   "cell_type": "code",
   "execution_count": 34,
   "id": "8f06237b",
   "metadata": {
    "scrolled": true
   },
   "outputs": [
    {
     "data": {
      "text/html": [
       "<div>\n",
       "<style scoped>\n",
       "    .dataframe tbody tr th:only-of-type {\n",
       "        vertical-align: middle;\n",
       "    }\n",
       "\n",
       "    .dataframe tbody tr th {\n",
       "        vertical-align: top;\n",
       "    }\n",
       "\n",
       "    .dataframe thead th {\n",
       "        text-align: right;\n",
       "    }\n",
       "</style>\n",
       "<table border=\"1\" class=\"dataframe\">\n",
       "  <thead>\n",
       "    <tr style=\"text-align: right;\">\n",
       "      <th></th>\n",
       "      <th>fsArea_L_V1_ROI</th>\n",
       "      <th>fsArea_L_MST_ROI</th>\n",
       "      <th>fsArea_L_V6_ROI</th>\n",
       "      <th>fsArea_L_V2_ROI</th>\n",
       "      <th>fsArea_L_V3_ROI</th>\n",
       "      <th>fsArea_L_V4_ROI</th>\n",
       "      <th>fsArea_L_V8_ROI</th>\n",
       "      <th>fsArea_L_4_ROI</th>\n",
       "      <th>fsArea_L_3b_ROI</th>\n",
       "      <th>fsArea_L_FEF_ROI</th>\n",
       "      <th>...</th>\n",
       "      <th>fsCT_R_p47r_ROI</th>\n",
       "      <th>fsCT_R_TGv_ROI</th>\n",
       "      <th>fsCT_R_MBelt_ROI</th>\n",
       "      <th>fsCT_R_LBelt_ROI</th>\n",
       "      <th>fsCT_R_A4_ROI</th>\n",
       "      <th>fsCT_R_STSva_ROI</th>\n",
       "      <th>fsCT_R_TE1m_ROI</th>\n",
       "      <th>fsCT_R_PI_ROI</th>\n",
       "      <th>fsCT_R_a32pr_ROI</th>\n",
       "      <th>fsCT_R_p24_ROI</th>\n",
       "    </tr>\n",
       "  </thead>\n",
       "  <tbody>\n",
       "    <tr>\n",
       "      <th>0</th>\n",
       "      <td>-0.085964</td>\n",
       "      <td>-0.026128</td>\n",
       "      <td>-0.00252</td>\n",
       "      <td>-0.049174</td>\n",
       "      <td>-0.008289</td>\n",
       "      <td>0.005912</td>\n",
       "      <td>-0.037532</td>\n",
       "      <td>0.023101</td>\n",
       "      <td>-0.023001</td>\n",
       "      <td>0.014283</td>\n",
       "      <td>...</td>\n",
       "      <td>0.031213</td>\n",
       "      <td>-0.108149</td>\n",
       "      <td>-0.045365</td>\n",
       "      <td>-0.02417</td>\n",
       "      <td>-0.015129</td>\n",
       "      <td>-0.09161</td>\n",
       "      <td>-0.012253</td>\n",
       "      <td>-0.0177</td>\n",
       "      <td>-0.012375</td>\n",
       "      <td>-0.063983</td>\n",
       "    </tr>\n",
       "  </tbody>\n",
       "</table>\n",
       "<p>1 rows × 1440 columns</p>\n",
       "</div>"
      ],
      "text/plain": [
       "   fsArea_L_V1_ROI  fsArea_L_MST_ROI  fsArea_L_V6_ROI  fsArea_L_V2_ROI  \\\n",
       "0        -0.085964         -0.026128         -0.00252        -0.049174   \n",
       "\n",
       "   fsArea_L_V3_ROI  fsArea_L_V4_ROI  fsArea_L_V8_ROI  fsArea_L_4_ROI  \\\n",
       "0        -0.008289         0.005912        -0.037532        0.023101   \n",
       "\n",
       "   fsArea_L_3b_ROI  fsArea_L_FEF_ROI  ...  fsCT_R_p47r_ROI  fsCT_R_TGv_ROI  \\\n",
       "0        -0.023001          0.014283  ...         0.031213       -0.108149   \n",
       "\n",
       "   fsCT_R_MBelt_ROI  fsCT_R_LBelt_ROI  fsCT_R_A4_ROI  fsCT_R_STSva_ROI  \\\n",
       "0         -0.045365          -0.02417      -0.015129          -0.09161   \n",
       "\n",
       "   fsCT_R_TE1m_ROI  fsCT_R_PI_ROI  fsCT_R_a32pr_ROI  fsCT_R_p24_ROI  \n",
       "0        -0.012253        -0.0177         -0.012375       -0.063983  \n",
       "\n",
       "[1 rows x 1440 columns]"
      ]
     },
     "execution_count": 34,
     "metadata": {},
     "output_type": "execute_result"
    }
   ],
   "source": [
    "corr"
   ]
  },
  {
   "cell_type": "code",
   "execution_count": 59,
   "id": "c8bd0ebb",
   "metadata": {},
   "outputs": [],
   "source": [
    "X_train = X_train[['fsArea_L_OFC_ROI','fsLGI_L_OFC_ROI','fsArea_R_STSvp_ROI','fsLGI_R_STSvp_ROI']]"
   ]
  },
  {
   "cell_type": "code",
   "execution_count": 66,
   "id": "134acff7",
   "metadata": {},
   "outputs": [
    {
     "data": {
      "text/html": [
       "<div>\n",
       "<style scoped>\n",
       "    .dataframe tbody tr th:only-of-type {\n",
       "        vertical-align: middle;\n",
       "    }\n",
       "\n",
       "    .dataframe tbody tr th {\n",
       "        vertical-align: top;\n",
       "    }\n",
       "\n",
       "    .dataframe thead th {\n",
       "        text-align: right;\n",
       "    }\n",
       "</style>\n",
       "<table border=\"1\" class=\"dataframe\">\n",
       "  <thead>\n",
       "    <tr style=\"text-align: right;\">\n",
       "      <th></th>\n",
       "      <th>fsArea_L_OFC_ROI</th>\n",
       "      <th>fsLGI_L_OFC_ROI</th>\n",
       "      <th>fsArea_R_STSvp_ROI</th>\n",
       "      <th>fsLGI_R_STSvp_ROI</th>\n",
       "    </tr>\n",
       "  </thead>\n",
       "  <tbody>\n",
       "    <tr>\n",
       "      <th>152</th>\n",
       "      <td>1.647863</td>\n",
       "      <td>1.651664</td>\n",
       "      <td>0.192010</td>\n",
       "      <td>0.188674</td>\n",
       "    </tr>\n",
       "    <tr>\n",
       "      <th>240</th>\n",
       "      <td>-1.354488</td>\n",
       "      <td>-1.355295</td>\n",
       "      <td>-0.552671</td>\n",
       "      <td>-0.554063</td>\n",
       "    </tr>\n",
       "    <tr>\n",
       "      <th>774</th>\n",
       "      <td>0.942766</td>\n",
       "      <td>0.941437</td>\n",
       "      <td>0.889409</td>\n",
       "      <td>0.891225</td>\n",
       "    </tr>\n",
       "    <tr>\n",
       "      <th>942</th>\n",
       "      <td>1.769170</td>\n",
       "      <td>1.769416</td>\n",
       "      <td>0.392955</td>\n",
       "      <td>0.391024</td>\n",
       "    </tr>\n",
       "    <tr>\n",
       "      <th>232</th>\n",
       "      <td>0.465119</td>\n",
       "      <td>0.462771</td>\n",
       "      <td>-0.328085</td>\n",
       "      <td>-0.326774</td>\n",
       "    </tr>\n",
       "    <tr>\n",
       "      <th>...</th>\n",
       "      <td>...</td>\n",
       "      <td>...</td>\n",
       "      <td>...</td>\n",
       "      <td>...</td>\n",
       "    </tr>\n",
       "    <tr>\n",
       "      <th>618</th>\n",
       "      <td>0.821459</td>\n",
       "      <td>0.821259</td>\n",
       "      <td>-1.190969</td>\n",
       "      <td>-1.191371</td>\n",
       "    </tr>\n",
       "    <tr>\n",
       "      <th>980</th>\n",
       "      <td>0.715315</td>\n",
       "      <td>0.714198</td>\n",
       "      <td>0.629362</td>\n",
       "      <td>0.630014</td>\n",
       "    </tr>\n",
       "    <tr>\n",
       "      <th>227</th>\n",
       "      <td>1.572046</td>\n",
       "      <td>1.575387</td>\n",
       "      <td>0.298393</td>\n",
       "      <td>0.295640</td>\n",
       "    </tr>\n",
       "    <tr>\n",
       "      <th>713</th>\n",
       "      <td>1.094400</td>\n",
       "      <td>1.093916</td>\n",
       "      <td>0.759385</td>\n",
       "      <td>0.757192</td>\n",
       "    </tr>\n",
       "    <tr>\n",
       "      <th>906</th>\n",
       "      <td>-0.641809</td>\n",
       "      <td>-0.638093</td>\n",
       "      <td>0.345674</td>\n",
       "      <td>0.349064</td>\n",
       "    </tr>\n",
       "  </tbody>\n",
       "</table>\n",
       "<p>803 rows × 4 columns</p>\n",
       "</div>"
      ],
      "text/plain": [
       "     fsArea_L_OFC_ROI  fsLGI_L_OFC_ROI  fsArea_R_STSvp_ROI  fsLGI_R_STSvp_ROI\n",
       "152          1.647863         1.651664            0.192010           0.188674\n",
       "240         -1.354488        -1.355295           -0.552671          -0.554063\n",
       "774          0.942766         0.941437            0.889409           0.891225\n",
       "942          1.769170         1.769416            0.392955           0.391024\n",
       "232          0.465119         0.462771           -0.328085          -0.326774\n",
       "..                ...              ...                 ...                ...\n",
       "618          0.821459         0.821259           -1.190969          -1.191371\n",
       "980          0.715315         0.714198            0.629362           0.630014\n",
       "227          1.572046         1.575387            0.298393           0.295640\n",
       "713          1.094400         1.093916            0.759385           0.757192\n",
       "906         -0.641809        -0.638093            0.345674           0.349064\n",
       "\n",
       "[803 rows x 4 columns]"
      ]
     },
     "execution_count": 66,
     "metadata": {},
     "output_type": "execute_result"
    }
   ],
   "source": [
    "X_train"
   ]
  },
  {
   "cell_type": "code",
   "execution_count": 71,
   "id": "1501535b",
   "metadata": {},
   "outputs": [
    {
     "data": {
      "text/plain": [
       "Pipeline(steps=[('poly', PolynomialFeatures()), ('lr', LogisticRegression())])"
      ]
     },
     "execution_count": 71,
     "metadata": {},
     "output_type": "execute_result"
    }
   ],
   "source": [
    "pipeline1 = Pipeline([\n",
    "    ('poly', PolynomialFeatures(degree=2)),  # You can adjust the degree as needed\n",
    "    ('lr', LogisticRegression())\n",
    "])\n",
    "\n",
    "# Train the model\n",
    "pipeline1.fit(X_train, y_train)"
   ]
  },
  {
   "cell_type": "code",
   "execution_count": 73,
   "id": "7a603faa",
   "metadata": {},
   "outputs": [
    {
     "data": {
      "text/plain": [
       "Pipeline(steps=[('poly', PolynomialFeatures(degree=3)),\n",
       "                ('lr', LogisticRegression())])"
      ]
     },
     "execution_count": 73,
     "metadata": {},
     "output_type": "execute_result"
    }
   ],
   "source": [
    "pipeline2 = Pipeline([\n",
    "    ('poly', PolynomialFeatures(degree=3)),  # You can adjust the degree as needed\n",
    "    ('lr', LogisticRegression())\n",
    "])\n",
    "\n",
    "# Train the model\n",
    "pipeline2.fit(X_train, y_train)"
   ]
  },
  {
   "cell_type": "markdown",
   "id": "f34c9019",
   "metadata": {},
   "source": [
    "ive got an error requesting to increase number of iterations"
   ]
  },
  {
   "cell_type": "code",
   "execution_count": 78,
   "id": "590eaacb",
   "metadata": {},
   "outputs": [
    {
     "data": {
      "text/plain": [
       "Pipeline(steps=[('poly', PolynomialFeatures(degree=4)),\n",
       "                ('lr', LogisticRegression(max_iter=1000))])"
      ]
     },
     "execution_count": 78,
     "metadata": {},
     "output_type": "execute_result"
    }
   ],
   "source": [
    "pipeline3 = Pipeline([\n",
    "    ('poly', PolynomialFeatures(degree=4)),  # You can adjust the degree as needed\n",
    "    ('lr', LogisticRegression(max_iter=1000))\n",
    "])\n",
    "\n",
    "# Train the model\n",
    "pipeline3.fit(X_train, y_train)"
   ]
  },
  {
   "cell_type": "code",
   "execution_count": 80,
   "id": "c77b71b6",
   "metadata": {},
   "outputs": [
    {
     "data": {
      "text/plain": [
       "Pipeline(steps=[('poly', PolynomialFeatures(degree=5)),\n",
       "                ('lr', LogisticRegression(max_iter=10000))])"
      ]
     },
     "execution_count": 80,
     "metadata": {},
     "output_type": "execute_result"
    }
   ],
   "source": [
    "pipeline4 = Pipeline([\n",
    "    ('poly', PolynomialFeatures(degree=5)),  # You can adjust the degree as needed\n",
    "    ('lr', LogisticRegression(max_iter=10000))\n",
    "])\n",
    "\n",
    "# Train the model\n",
    "pipeline4.fit(X_train, y_train)"
   ]
  },
  {
   "cell_type": "code",
   "execution_count": 90,
   "id": "8e2148f4",
   "metadata": {},
   "outputs": [
    {
     "data": {
      "text/plain": [
       "Pipeline(steps=[('poly', PolynomialFeatures(degree=4)),\n",
       "                ('lr', LogisticRegression(max_iter=10000))])"
      ]
     },
     "execution_count": 90,
     "metadata": {},
     "output_type": "execute_result"
    }
   ],
   "source": [
    "pipeline5 = Pipeline([\n",
    "    ('poly', PolynomialFeatures(degree=4)),  # You can adjust the degree as needed\n",
    "    ('lr', LogisticRegression(max_iter=10000))\n",
    "])\n",
    "\n",
    "# Train the model\n",
    "pipeline5.fit(X_train, y_train)"
   ]
  },
  {
   "cell_type": "code",
   "execution_count": 91,
   "id": "ab01b1b9",
   "metadata": {},
   "outputs": [
    {
     "data": {
      "text/plain": [
       "Pipeline(steps=[('poly', PolynomialFeatures(degree=5)),\n",
       "                ('lr', LogisticRegression(max_iter=10000))])"
      ]
     },
     "execution_count": 91,
     "metadata": {},
     "output_type": "execute_result"
    }
   ],
   "source": [
    "pipeline6 = Pipeline([\n",
    "    ('poly', PolynomialFeatures(degree=5)),  # You can adjust the degree as needed\n",
    "    ('lr', LogisticRegression(max_iter=10000))\n",
    "])\n",
    "\n",
    "# Train the model\n",
    "pipeline6.fit(X_train, y_train)"
   ]
  },
  {
   "cell_type": "code",
   "execution_count": 92,
   "id": "eda17b53",
   "metadata": {},
   "outputs": [
    {
     "data": {
      "text/plain": [
       "Pipeline(steps=[('poly', PolynomialFeatures(degree=6)),\n",
       "                ('lr', LogisticRegression(max_iter=10000))])"
      ]
     },
     "execution_count": 92,
     "metadata": {},
     "output_type": "execute_result"
    }
   ],
   "source": [
    "pipeline7 = Pipeline([\n",
    "    ('poly', PolynomialFeatures(degree=6)),  # You can adjust the degree as needed\n",
    "    ('lr', LogisticRegression(max_iter=10000))\n",
    "])\n",
    "\n",
    "# Train the model\n",
    "pipeline7.fit(X_train, y_train)"
   ]
  },
  {
   "cell_type": "code",
   "execution_count": 84,
   "id": "e871728d",
   "metadata": {},
   "outputs": [],
   "source": [
    "y1_predict_train = pipeline1.predict(X_train)"
   ]
  },
  {
   "cell_type": "code",
   "execution_count": 85,
   "id": "f4bea2a4",
   "metadata": {},
   "outputs": [],
   "source": [
    "y2_predict_train = pipeline2.predict(X_train)"
   ]
  },
  {
   "cell_type": "code",
   "execution_count": 86,
   "id": "dd5475a0",
   "metadata": {},
   "outputs": [],
   "source": [
    "y3_predict_train = pipeline3.predict(X_train)"
   ]
  },
  {
   "cell_type": "code",
   "execution_count": 87,
   "id": "2a0bf27d",
   "metadata": {},
   "outputs": [],
   "source": [
    "y4_predict_train = pipeline4.predict(X_train)"
   ]
  },
  {
   "cell_type": "code",
   "execution_count": 93,
   "id": "acb9939b",
   "metadata": {},
   "outputs": [],
   "source": [
    "y5_predict_train = pipeline5.predict(X_train)"
   ]
  },
  {
   "cell_type": "code",
   "execution_count": 94,
   "id": "74260e64",
   "metadata": {},
   "outputs": [],
   "source": [
    "y6_predict_train = pipeline6.predict(X_train)"
   ]
  },
  {
   "cell_type": "code",
   "execution_count": 95,
   "id": "2f25f523",
   "metadata": {},
   "outputs": [],
   "source": [
    "y7_predict_train = pipeline7.predict(X_train)"
   ]
  },
  {
   "cell_type": "code",
   "execution_count": 98,
   "id": "187f96b0",
   "metadata": {},
   "outputs": [],
   "source": [
    "score1 = pipeline1.score(X_train, y_train)\n",
    "score2 = pipeline2.score(X_train, y_train)\n",
    "score3 = pipeline3.score(X_train, y_train)\n",
    "score4 = pipeline4.score(X_train, y_train)\n",
    "score5 = pipeline5.score(X_train, y_train)\n",
    "score6 = pipeline6.score(X_train, y_train)\n",
    "score7 = pipeline7.score(X_train, y_train)"
   ]
  },
  {
   "cell_type": "code",
   "execution_count": 99,
   "id": "7c3c77db",
   "metadata": {},
   "outputs": [
    {
     "name": "stdout",
     "output_type": "stream",
     "text": [
      "              precision    recall  f1-score   support\n",
      "\n",
      "         0.0       0.60      0.80      0.68       437\n",
      "         1.0       0.60      0.36      0.45       366\n",
      "\n",
      "    accuracy                           0.60       803\n",
      "   macro avg       0.60      0.58      0.57       803\n",
      "weighted avg       0.60      0.60      0.58       803\n",
      "\n"
     ]
    },
    {
     "data": {
      "text/plain": [
       "0.5990037359900373"
      ]
     },
     "execution_count": 99,
     "metadata": {},
     "output_type": "execute_result"
    }
   ],
   "source": [
    "print(classification_report(y_train, y1_predict_train))\n",
    "score1"
   ]
  },
  {
   "cell_type": "code",
   "execution_count": 100,
   "id": "d59e2229",
   "metadata": {},
   "outputs": [
    {
     "name": "stdout",
     "output_type": "stream",
     "text": [
      "              precision    recall  f1-score   support\n",
      "\n",
      "         0.0       0.61      0.76      0.68       437\n",
      "         1.0       0.60      0.43      0.50       366\n",
      "\n",
      "    accuracy                           0.61       803\n",
      "   macro avg       0.61      0.59      0.59       803\n",
      "weighted avg       0.61      0.61      0.60       803\n",
      "\n"
     ]
    },
    {
     "data": {
      "text/plain": [
       "0.6077210460772104"
      ]
     },
     "execution_count": 100,
     "metadata": {},
     "output_type": "execute_result"
    }
   ],
   "source": [
    "print(classification_report(y_train, y2_predict_train))\n",
    "score2"
   ]
  },
  {
   "cell_type": "code",
   "execution_count": 101,
   "id": "adf4c804",
   "metadata": {},
   "outputs": [
    {
     "name": "stdout",
     "output_type": "stream",
     "text": [
      "              precision    recall  f1-score   support\n",
      "\n",
      "         0.0       0.60      0.78      0.68       437\n",
      "         1.0       0.59      0.38      0.46       366\n",
      "\n",
      "    accuracy                           0.60       803\n",
      "   macro avg       0.59      0.58      0.57       803\n",
      "weighted avg       0.59      0.60      0.58       803\n",
      "\n"
     ]
    },
    {
     "data": {
      "text/plain": [
       "0.5965130759651308"
      ]
     },
     "execution_count": 101,
     "metadata": {},
     "output_type": "execute_result"
    }
   ],
   "source": [
    "print(classification_report(y_train, y3_predict_train))\n",
    "score3"
   ]
  },
  {
   "cell_type": "code",
   "execution_count": 102,
   "id": "552a668d",
   "metadata": {},
   "outputs": [
    {
     "name": "stdout",
     "output_type": "stream",
     "text": [
      "              precision    recall  f1-score   support\n",
      "\n",
      "         0.0       0.62      0.76      0.68       437\n",
      "         1.0       0.60      0.44      0.51       366\n",
      "\n",
      "    accuracy                           0.61       803\n",
      "   macro avg       0.61      0.60      0.59       803\n",
      "weighted avg       0.61      0.61      0.60       803\n",
      "\n"
     ]
    },
    {
     "data": {
      "text/plain": [
       "0.6127023661270237"
      ]
     },
     "execution_count": 102,
     "metadata": {},
     "output_type": "execute_result"
    }
   ],
   "source": [
    "print(classification_report(y_train, y4_predict_train))\n",
    "score4"
   ]
  },
  {
   "cell_type": "code",
   "execution_count": 103,
   "id": "c00a20bf",
   "metadata": {},
   "outputs": [
    {
     "name": "stdout",
     "output_type": "stream",
     "text": [
      "              precision    recall  f1-score   support\n",
      "\n",
      "         0.0       0.60      0.78      0.68       437\n",
      "         1.0       0.59      0.38      0.46       366\n",
      "\n",
      "    accuracy                           0.60       803\n",
      "   macro avg       0.59      0.58      0.57       803\n",
      "weighted avg       0.59      0.60      0.58       803\n",
      "\n"
     ]
    },
    {
     "data": {
      "text/plain": [
       "0.5965130759651308"
      ]
     },
     "execution_count": 103,
     "metadata": {},
     "output_type": "execute_result"
    }
   ],
   "source": [
    "print(classification_report(y_train, y5_predict_train))\n",
    "score5"
   ]
  },
  {
   "cell_type": "code",
   "execution_count": 104,
   "id": "cf3eface",
   "metadata": {},
   "outputs": [
    {
     "name": "stdout",
     "output_type": "stream",
     "text": [
      "              precision    recall  f1-score   support\n",
      "\n",
      "         0.0       0.62      0.76      0.68       437\n",
      "         1.0       0.60      0.44      0.51       366\n",
      "\n",
      "    accuracy                           0.61       803\n",
      "   macro avg       0.61      0.60      0.59       803\n",
      "weighted avg       0.61      0.61      0.60       803\n",
      "\n"
     ]
    },
    {
     "data": {
      "text/plain": [
       "0.6127023661270237"
      ]
     },
     "execution_count": 104,
     "metadata": {},
     "output_type": "execute_result"
    }
   ],
   "source": [
    "print(classification_report(y_train, y6_predict_train))\n",
    "score6"
   ]
  },
  {
   "cell_type": "code",
   "execution_count": 105,
   "id": "34a050ea",
   "metadata": {},
   "outputs": [
    {
     "name": "stdout",
     "output_type": "stream",
     "text": [
      "              precision    recall  f1-score   support\n",
      "\n",
      "         0.0       0.64      0.73      0.68       437\n",
      "         1.0       0.61      0.50      0.55       366\n",
      "\n",
      "    accuracy                           0.63       803\n",
      "   macro avg       0.62      0.61      0.61       803\n",
      "weighted avg       0.62      0.63      0.62       803\n",
      "\n"
     ]
    },
    {
     "data": {
      "text/plain": [
       "0.6251556662515566"
      ]
     },
     "execution_count": 105,
     "metadata": {},
     "output_type": "execute_result"
    }
   ],
   "source": [
    "print(classification_report(y_train, y7_predict_train))\n",
    "score7"
   ]
  },
  {
   "cell_type": "markdown",
   "id": "51074b46",
   "metadata": {},
   "source": [
    "# now trying SVM for 6th degree poly and comparision:"
   ]
  },
  {
   "cell_type": "code",
   "execution_count": 109,
   "id": "48edcb8d",
   "metadata": {},
   "outputs": [],
   "source": [
    "svm = SVC(C = 0.1, kernel = 'poly', degree = 6)\n",
    "svm.fit(X_train, y_train)\n",
    "y_svm_predict_train = svm.predict(X_train)\n"
   ]
  },
  {
   "cell_type": "code",
   "execution_count": 110,
   "id": "a731bcab",
   "metadata": {},
   "outputs": [
    {
     "name": "stdout",
     "output_type": "stream",
     "text": [
      "              precision    recall  f1-score   support\n",
      "\n",
      "         0.0       0.55      0.98      0.71       437\n",
      "         1.0       0.71      0.05      0.09       366\n",
      "\n",
      "    accuracy                           0.56       803\n",
      "   macro avg       0.63      0.52      0.40       803\n",
      "weighted avg       0.62      0.56      0.42       803\n",
      "\n"
     ]
    },
    {
     "data": {
      "text/plain": [
       "0.5566625155666252"
      ]
     },
     "execution_count": 110,
     "metadata": {},
     "output_type": "execute_result"
    }
   ],
   "source": [
    "print(classification_report(y_train, y_svm_predict_train))\n",
    "acc = svm.score(X_train, y_train)\n",
    "acc"
   ]
  },
  {
   "cell_type": "markdown",
   "id": "5d8db8ae",
   "metadata": {},
   "source": [
    "aside from a huge reduction in recall for second group there isnt a noticible diffrence"
   ]
  },
  {
   "cell_type": "code",
   "execution_count": null,
   "id": "db2b0a1c",
   "metadata": {},
   "outputs": [],
   "source": []
  }
 ],
 "metadata": {
  "kernelspec": {
   "display_name": "Python 3 (ipykernel)",
   "language": "python",
   "name": "python3"
  },
  "language_info": {
   "codemirror_mode": {
    "name": "ipython",
    "version": 3
   },
   "file_extension": ".py",
   "mimetype": "text/x-python",
   "name": "python",
   "nbconvert_exporter": "python",
   "pygments_lexer": "ipython3",
   "version": "3.9.13"
  }
 },
 "nbformat": 4,
 "nbformat_minor": 5
}
